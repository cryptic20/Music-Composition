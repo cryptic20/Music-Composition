{
 "cells": [
  {
   "cell_type": "code",
   "execution_count": 2,
   "metadata": {},
   "outputs": [
    {
     "name": "stderr",
     "output_type": "stream",
     "text": [
      "WARNING (theano.configdefaults): g++ not available, if using conda: `conda install m2w64-toolchain`\n",
      "S:\\ProgramData\\Anaconda2\\lib\\site-packages\\theano\\configdefaults.py:560: UserWarning: DeprecationWarning: there is no c++ compiler.This is deprecated and with Theano 0.11 a c++ compiler will be mandatory\n",
      "  warnings.warn(\"DeprecationWarning: there is no c++ compiler.\"\n",
      "WARNING (theano.configdefaults): g++ not detected ! Theano will be unable to execute optimized C-implementations (for both CPU and GPU) and will default to Python implementations. Performance will be severely degraded. To remove this warning, set Theano flags cxx to an empty string.\n",
      "WARNING (theano.tensor.blas): Using NumPy C-API based implementation for BLAS functions.\n"
     ]
    }
   ],
   "source": [
    "# %load main.py\n",
    "import cPickle as pickle\n",
    "import gzip\n",
    "import numpy\n",
    "from midi_to_statematrix import *\n",
    "\n",
    "import multi_training\n",
    "import model\n",
    "\n",
    "def gen_adaptive(m,pcs,times,keep_thoughts=False,name=\"final\"):\n",
    "\txIpt, xOpt = map(lambda x: numpy.array(x, dtype='int8'), multi_training.getPieceSegment(pcs))\n",
    "\tall_outputs = [xOpt[0]]\n",
    "\tif keep_thoughts:\n",
    "\t\tall_thoughts = []\n",
    "\tm.start_slow_walk(xIpt[0])\n",
    "\tcons = 1\n",
    "\tfor time in range(multi_training.batch_len*times):\n",
    "\t\tresdata = m.slow_walk_fun( cons )\n",
    "\t\tnnotes = numpy.sum(resdata[-1][:,0])\n",
    "\t\tif nnotes < 2:\n",
    "\t\t\tif cons > 1:\n",
    "\t\t\t\tcons = 1\n",
    "\t\t\tcons -= 0.02\n",
    "\t\telse:\n",
    "\t\t\tcons += (1 - cons)*0.3\n",
    "\t\tall_outputs.append(resdata[-1])\n",
    "\t\tif keep_thoughts:\n",
    "\t\t\tall_thoughts.append(resdata)\n",
    "\tnoteStateMatrixToMidi(numpy.array(all_outputs),'output/'+name)\n",
    "\tif keep_thoughts:\n",
    "\t\tpickle.dump(all_thoughts, open('output/'+name+'.p','wb'))\n",
    "\n",
    "def fetch_train_thoughts(m,pcs,batches,name=\"trainthoughts\"):\n",
    "\tall_thoughts = []\n",
    "\tfor i in range(batches):\n",
    "\t\tipt, opt = multi_training.getPieceBatch(pcs)\n",
    "\t\tthoughts = m.update_thought_fun(ipt,opt)\n",
    "\t\tall_thoughts.append((ipt,opt,thoughts))\n",
    "\tpickle.dump(all_thoughts, open('output/'+name+'.p','wb'))\n",
    "\n",
    "# if __name__ == '__main__':\n",
    "#     # load data\n",
    "#     pcs = multi_training.loadPieces(\"music\")\n",
    "#     # create instance model\n",
    "#     m = model.Model([300,300],[100,50], dropout=0.5)\n",
    "#     # train data\n",
    "#     multi_training.trainPiece(m, pcs, 1000)\n",
    "#     # save model weights\n",
    "#     pickle.dump( m.learned_config, open( \"output/final_learned_config.p\", \"wb\" ) )\n"
   ]
  },
  {
   "cell_type": "code",
   "execution_count": 3,
   "metadata": {},
   "outputs": [
    {
     "name": "stdout",
     "output_type": "stream",
     "text": [
      "Loaded appass_2\n",
      "Loaded appass_3\n",
      "Loaded beethoven_hammerklavier_1\n",
      "Loaded beethoven_les_adieux_1\n",
      "Loaded beethoven_les_adieux_2\n",
      "Loaded beethoven_opus10_2\n",
      "Loaded beethoven_opus10_3\n",
      "Loaded beethoven_opus22_1\n",
      "Loaded beethoven_opus22_4\n",
      "Loaded beethoven_opus90_2\n",
      "Loaded mond_1\n",
      "Loaded mond_3\n",
      "Loaded pathetique_1\n",
      "Loaded pathetique_2\n",
      "Loaded pathetique_3\n",
      "Loaded waldstein_1\n",
      "Loaded waldstein_3\n"
     ]
    },
    {
     "name": "stderr",
     "output_type": "stream",
     "text": [
      "model.py:370: UserWarning: Updating an `OrderedUpdates` with a non-ordered dictionary with 2+ elements could make your code non-deterministic\n",
      "  self.walk_input: next_input\n",
      "model.py:373: UserWarning: Updating an `OrderedUpdates` with a non-ordered dictionary with 2+ elements could make your code non-deterministic\n",
      "  updates.update({hidden:newstate for hidden, newstate, layer in zip(self.walk_hiddens, new_states, self.time_model.layers) if has_hidden(layer)})\n"
     ]
    },
    {
     "ename": "SkipTest",
     "evalue": "You are importing theano.sandbox.cuda. This is the old GPU back-end and is removed from Theano. Use Theano 0.9 to use it. Even better, transition to the new GPU back-end! See https://github.com/Theano/Theano/wiki/Converting-to-the-new-gpu-back-end%28gpuarray%29",
     "output_type": "error",
     "traceback": [
      "\u001b[1;31m---------------------------------------------------------------------------\u001b[0m",
      "\u001b[1;31mSkipTest\u001b[0m                                  Traceback (most recent call last)",
      "\u001b[1;32m<ipython-input-3-7a2390513754>\u001b[0m in \u001b[0;36m<module>\u001b[1;34m()\u001b[0m\n\u001b[0;32m      6\u001b[0m \u001b[1;33m\u001b[0m\u001b[0m\n\u001b[0;32m      7\u001b[0m \u001b[1;31m#load trained model\u001b[0m\u001b[1;33m\u001b[0m\u001b[1;33m\u001b[0m\u001b[0m\n\u001b[1;32m----> 8\u001b[1;33m \u001b[0mm\u001b[0m\u001b[1;33m.\u001b[0m\u001b[0mlearned_config\u001b[0m \u001b[1;33m=\u001b[0m \u001b[0mpickle\u001b[0m\u001b[1;33m.\u001b[0m\u001b[0mload\u001b[0m\u001b[1;33m(\u001b[0m\u001b[0mopen\u001b[0m\u001b[1;33m(\u001b[0m \u001b[1;34m\"output/final_learned_config.p\"\u001b[0m\u001b[1;33m,\u001b[0m \u001b[1;34m\"rb\"\u001b[0m \u001b[1;33m)\u001b[0m \u001b[1;33m)\u001b[0m\u001b[1;33m\u001b[0m\u001b[0m\n\u001b[0m\u001b[0;32m      9\u001b[0m \u001b[1;33m\u001b[0m\u001b[0m\n\u001b[0;32m     10\u001b[0m \u001b[1;31m#generate composition\u001b[0m\u001b[1;33m\u001b[0m\u001b[1;33m\u001b[0m\u001b[0m\n",
      "\u001b[1;32mS:\\ProgramData\\Anaconda2\\lib\\site-packages\\theano\\sandbox\\cuda\\__init__.py\u001b[0m in \u001b[0;36m<module>\u001b[1;34m()\u001b[0m\n\u001b[0;32m      4\u001b[0m \u001b[1;31m# the folder will be skipped by nosetests without failing.\u001b[0m\u001b[1;33m\u001b[0m\u001b[1;33m\u001b[0m\u001b[0m\n\u001b[0;32m      5\u001b[0m raise SkipTest(\n\u001b[1;32m----> 6\u001b[1;33m     \u001b[1;34m\"You are importing theano.sandbox.cuda. This is the old GPU back-end and \"\u001b[0m\u001b[1;33m\u001b[0m\u001b[0m\n\u001b[0m\u001b[0;32m      7\u001b[0m     \u001b[1;34m\"is removed from Theano. Use Theano 0.9 to use it. Even better, \"\u001b[0m\u001b[1;33m\u001b[0m\u001b[0m\n\u001b[0;32m      8\u001b[0m     \u001b[1;34m\"transition to the new GPU back-end! See \"\u001b[0m\u001b[1;33m\u001b[0m\u001b[0m\n",
      "\u001b[1;31mSkipTest\u001b[0m: You are importing theano.sandbox.cuda. This is the old GPU back-end and is removed from Theano. Use Theano 0.9 to use it. Even better, transition to the new GPU back-end! See https://github.com/Theano/Theano/wiki/Converting-to-the-new-gpu-back-end%28gpuarray%29"
     ]
    }
   ],
   "source": [
    "# load data\n",
    "pcs = multi_training.loadPieces(\"music\")\n",
    "\n",
    "#     # create instance model\n",
    "m = model.Model([300,300],[100,50], dropout=0.5)\n",
    "\n",
    "#load trained model\n",
    "m.learned_config = pickle.load(open( \"output/final_learned_config.p\", \"rb\" ) )\n",
    "\n",
    "#generate composition\n",
    "gen_adaptive(m,pcs,10,name=\"composition\")"
   ]
  },
  {
   "cell_type": "code",
   "execution_count": null,
   "metadata": {},
   "outputs": [],
   "source": []
  }
 ],
 "metadata": {
  "kernelspec": {
   "display_name": "Python 2",
   "language": "python",
   "name": "python2"
  },
  "language_info": {
   "codemirror_mode": {
    "name": "ipython",
    "version": 2
   },
   "file_extension": ".py",
   "mimetype": "text/x-python",
   "name": "python",
   "nbconvert_exporter": "python",
   "pygments_lexer": "ipython2",
   "version": "2.7.15"
  }
 },
 "nbformat": 4,
 "nbformat_minor": 2
}
